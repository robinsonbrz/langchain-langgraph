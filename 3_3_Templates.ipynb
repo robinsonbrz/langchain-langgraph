{
 "cells": [
  {
   "cell_type": "markdown",
   "metadata": {
    "editable": true,
    "slideshow": {
     "slide_type": ""
    },
    "tags": []
   },
   "source": [
    "# Setup"
   ]
  },
  {
   "cell_type": "code",
   "execution_count": 1,
   "metadata": {
    "editable": true,
    "id": "ASzXPwDRUBxA",
    "slideshow": {
     "slide_type": ""
    },
    "tags": []
   },
   "outputs": [],
   "source": [
    "from langchain_openai import ChatOpenAI,OpenAI\n",
    "from langchain.prompts import PromptTemplate,ChatPromptTemplate, HumanMessagePromptTemplate\n",
    "from langchain_core.messages import SystemMessage, HumanMessage, AIMessage\n",
    "import os\n",
    "import yaml"
   ]
  },
  {
   "cell_type": "code",
   "execution_count": 9,
   "metadata": {},
   "outputs": [],
   "source": [
    "with open('config.yaml', 'r') as config_file:\n",
    "    config = yaml.safe_load(config_file)\n",
    "# os.environ['GOOGLE_API_KEY'] = config['GOOGLE_API_KEY']\n",
    "os.environ['OPENAI_API_KEY'] = config['OPENAI_API_KEY']"
   ]
  },
  {
   "cell_type": "markdown",
   "metadata": {},
   "source": [
    "# Completion"
   ]
  },
  {
   "cell_type": "code",
   "execution_count": 3,
   "metadata": {
    "id": "eCBl659lZl7j"
   },
   "outputs": [],
   "source": [
    "template = '''\n",
    "Você é um analista financeiro.\n",
    "Escreva um relatório financeiro detalhado para a empresa \"{empresa}\" para o período {periodo}.\n",
    "\n",
    "O relatório deve ser escrito em {idioma} e incluir as seguintes análises:\n",
    "{analises}\n",
    "\n",
    "Certifique-se de fornecer insights e conclusões para cada seção.\n",
    "'''"
   ]
  },
  {
   "cell_type": "code",
   "execution_count": 4,
   "metadata": {
    "id": "zCezS4xvZl_C"
   },
   "outputs": [],
   "source": [
    "prompt_template = PromptTemplate.from_template(template=template)"
   ]
  },
  {
   "cell_type": "code",
   "execution_count": 5,
   "metadata": {
    "id": "z_YBQfANZmCi"
   },
   "outputs": [],
   "source": [
    "empresa = 'ACME Corp'\n",
    "periodo = 'Q1 2024'\n",
    "idioma = 'Português'\n",
    "analises = [\n",
    "    \"Análise do Balanço Patrimonial\",\n",
    "    \"Análise do Fluxo de Caixa\",\n",
    "    \"Análise de Tendências\",\n",
    "    \"Análise de Receita e Lucro\",\n",
    "    \"Análise de Posição de Mercado\"\n",
    "]\n",
    "analises_text = \"\\n\".join([f\"- {analise}\" for analise in analises])"
   ]
  },
  {
   "cell_type": "code",
   "execution_count": null,
   "metadata": {},
   "outputs": [
    {
     "name": "stdout",
     "output_type": "stream",
     "text": [
      "- Análise do Balanço Patrimonial\n",
      "- Análise do Fluxo de Caixa\n",
      "- Análise de Tendências\n",
      "- Análise de Receita e Lucro\n",
      "- Análise de Posição de Mercado\n"
     ]
    }
   ],
   "source": [
    "print(analises_text)"
   ]
  },
  {
   "cell_type": "code",
   "execution_count": 7,
   "metadata": {
    "colab": {
     "base_uri": "https://localhost:8080/"
    },
    "id": "3C9tfTCDZuXr",
    "outputId": "f57170e1-95ff-4fb4-b080-c9dd7ae2b610"
   },
   "outputs": [
    {
     "name": "stdout",
     "output_type": "stream",
     "text": [
      "Prompt Gerado:\n",
      " \n",
      "Você é um analista financeiro.\n",
      "Escreva um relatório financeiro detalhado para a empresa \"ACME Corp\" para o período Q1 2024.\n",
      "\n",
      "O relatório deve ser escrito em Português e incluir as seguintes análises:\n",
      "- Análise do Balanço Patrimonial\n",
      "- Análise do Fluxo de Caixa\n",
      "- Análise de Tendências\n",
      "- Análise de Receita e Lucro\n",
      "- Análise de Posição de Mercado\n",
      "\n",
      "Certifique-se de fornecer insights e conclusões para cada seção.\n",
      "\n"
     ]
    }
   ],
   "source": [
    "prompt = prompt_template.format(\n",
    "    empresa=empresa,\n",
    "    periodo=periodo,\n",
    "    idioma=idioma,\n",
    "    analises=analises_text\n",
    ")\n",
    "print(\"Prompt Gerado:\\n\", prompt)"
   ]
  },
  {
   "cell_type": "code",
   "execution_count": 10,
   "metadata": {
    "colab": {
     "base_uri": "https://localhost:8080/"
    },
    "id": "SBYz28rrYyXd",
    "outputId": "a5e593fb-f02d-4217-9c91-99900817902c"
   },
   "outputs": [
    {
     "name": "stdout",
     "output_type": "stream",
     "text": [
      "Saída do LLM:\n",
      "   \n",
      "**Relatório Financeiro da ACME Corp - Q1 2024**\n",
      "\n",
      "**Introdução**\n",
      "Este relatório apresenta uma análise financeira detalhada da ACME Corp para o primeiro trimestre de 2024. O objetivo é fornecer uma visão clara da saúde financeira da empresa e identificar áreas de melhoria e crescimento.\n",
      "\n",
      "**1. Análise do Balanço Patrimonial**\n",
      "No final do Q1 2024, o balanço patrimonial da ACME Corp mostrou um ativo total de R$ 10.000.000,00, com passivos totalizando R$ 4.000.000,00 e patrimônio líquido de R$ 6.000.000,00. A relação dívida/patrimônio se situa em 0,67, indicando uma estrutura de capital saudável. Além disso, a liquidez corrente é de 2,5, o que sugere que a empresa tem ativos suficientes para cobrir suas obrigações de curto prazo. No entanto, é importante monitorar o crescimento dos passivos, que aumentaram 10% em relação ao trimestre anterior.\n",
      "\n",
      "**Conclusão da Análise do Balanço Patrimonial**\n",
      "A ACME Corp apresenta uma posição financeira sólida, mas deve continuar a controlar o aumento dos passivos para manter sua saúde financeira a longo prazo.\n",
      "\n",
      "**2. Análise do Fluxo de Caixa**\n",
      "O fluxo de caixa operacional da ACME Corp foi de R$ 1.500.000,00 no Q1 2024, um aumento de 20% em relação ao mesmo período do ano anterior. Esse crescimento é impulsionado por um aumento nas vendas e uma melhor gestão dos recebíveis. No entanto, o fluxo de caixa de investimento foi negativo em R$ 600.000,00 devido a investimentos em novos equipamentos e tecnologia. O fluxo de caixa livre é de R$ 900.000,00, o que proporciona uma margem de manobra saudável para a empresa.\n",
      "\n",
      "**Conclusão da Análise do Fluxo de Caixa**\n",
      "A empresa apresenta um fluxo de caixa operacional robusto, mas deve continuar a monitorar seus investimentos para garantir que eles resultem em retornos positivos a longo prazo.\n",
      "\n",
      "**3. Análise de Tendências**\n",
      "Comparando os dados do Q1 2024 com os últimos quatro trimestres, observamos uma tendência de crescimento consistente nas receitas, que aumentaram 15% em relação ao Q1 2023. A margem de lucro também melhorou, passando de 10% para 12%. Contudo, os custos operacionais também cresceram, o que pode impactar a rentabilidade se não forem controlados. A ACME Corp deve se concentrar na eficiência operacional para sustentar essa tendência positiva.\n",
      "\n",
      "**Conclusão da Análise de Tendências**\n",
      "As tendências observadas são encorajadoras, mas a empresa deve ser cautelosa em relação ao aumento dos custos. A implementação de medidas de eficiência pode ser crucial para manter o crescimento.\n",
      "\n",
      "**4. Análise de Receita e Lucro**\n",
      "As receitas da ACME Corp totalizaram R$ 5.000.000,00 no Q1 2024, com um lucro líquido de R$ 600.000,00, representando uma margem de lucro de 12%. A receita foi impulsionada por um aumento na demanda pelos produtos da empresa, mas a concorrência também aumentou, o que pode pressionar as margens no futuro. É vital que a ACME Corp continue a inovar e a diferenciar seus produtos para se manter competitiva.\n",
      "\n",
      "**Conclusão da Análise de Receita e Lucro**\n",
      "Embora a receita e o lucro estejam em crescimento, a empresa deve estar atenta à concorrência e buscar inovações constantes para preservar suas margens.\n",
      "\n",
      "**5. Análise de Posição de Mercado**\n",
      "A ACME Corp mantém uma participação de mercado de 25% no seu setor, consolidando-se como um dos principais players. A empresa também investiu em marketing e branding, o que ajudou a fortalecer sua imagem no mercado. No entanto, a entrada de novos concorrentes pode representar um desafio. A ACME Corp deve continuar a monitorar as tendências do mercado e a resposta dos consumidores para sustentar sua posição.\n",
      "\n",
      "**Conclusão da Análise de Posição de Mercado**\n",
      "A posição de mercado da ACME Corp é sólida, mas a empresa deve estar sempre atenta às mudanças no ambiente competitivo e desenvolver estratégias para se diferenciar.\n",
      "\n",
      "**Considerações Finais**\n",
      "Em suma, a ACME Corp apresenta um desempenho financeiro positivo no Q1 2024, com crescimento em receitas e lucros. Contudo, é essencial que a empresa mantenha um controle rigoroso sobre seus custos e continue a inovar para se diferenciar em um mercado competitivo. A gestão de passivos e a avaliação de investimentos também são áreas críticas que precisam de atenção contínua para garantir a sustentabilidade financeira a longo prazo. A empresa está bem posicionada para o futuro, mas deve permanecer vigilante em relação aos desafios do mercado.\n",
      "\n",
      "**Relatório Financeiro da ACME Corp - Q1 2024**\n",
      "\n",
      "**Introdução**\n",
      "Este relatório apresenta uma análise financeira detalhada da ACME Corp para o primeiro trimestre de 2024. O objetivo é fornecer uma visão clara da saúde financeira da empresa e identificar áreas de melhoria e crescimento.\n",
      "\n",
      "**1. Análise do Balanço Patrimonial**\n",
      "No final do Q1 2024, o balanço patrimonial da ACME Corp apresentou os seguintes dados:\n",
      "- Ativos Totais: R$ 10.000.000,00\n",
      "- Passivos Totais: R$ 4.000.000,00\n",
      "- Patrimônio Líquido: R$ 6.000.000,00\n",
      "\n",
      "A relação dívida/patrimônio (0,67) indica uma estrutura de capital saudável, evidenciando que a empresa não está excessivamente alavancada. Além disso, a liquidez corrente, que é de 2,5, sugere que a ACME Corp possui ativos suficientes para cobrir suas obrigações de curto prazo. Entretanto, o aumento de 10% nos passivos em relação ao trimestre anterior deve ser monitorado, pois pode indicar uma tendência de crescimento indesejado em obrigações financeiras.\n",
      "\n",
      "**Conclusão da Análise do Balanço Patrimonial**\n",
      "A ACME Corp apresenta uma posição financeira sólida, mas é crucial controlar o crescimento dos passivos para manter a saúde financeira a longo prazo. A gestão eficaz de dívidas e a manutenção de uma estrutura de capital equilibrada serão fundamentais.\n",
      "\n",
      "**2. Análise do Fluxo de Caixa**\n",
      "O fluxo de caixa operacional da ACME Corp foi de R$ 1.500.000,00 no Q1 2024, representando um aumento de 20% em relação ao mesmo período do ano anterior. Esse crescimento é resultado de um aumento nas vendas e melhorias na gestão dos recebíveis. O fluxo de caixa de investimento teve um impacto negativo de R$ 600.000,00 devido a investimentos em novos equipamentos e tecnologia, o que é essencial para o crescimento futuro. O fluxo de caixa livre totalizou R$ 900.000,00, permitindo que a empresa tenha uma margem de manobra saudável.\n",
      "\n",
      "**Conclusão da Análise do Fluxo de Caixa**\n",
      "A empresa demonstra um fluxo de caixa operacional robusto, que é um sinal positivo. No entanto, é importante que a ACME Corp continue a monitorar seus investimentos e assegure que eles tragam retornos positivos no futuro.\n",
      "\n",
      "**3. Análise de Tendências**\n",
      "Comparando os dados do Q1 2024 com os últimos quatro trimestres, notamos uma tendência de crescimento consistente nas receitas, que aumentaram 15% em relação ao Q1 2023. A margem de lucro também apresentou melhoras, passando de 10% para 12%. Contudo, os custos operacionais também cresceram, o que pode impactar a rentabilidade se não forem controlados. A ACME Corp deve se concentrar na eficiência operacional e na redução de custos para sustentar essa tendência positiva.\n",
      "\n",
      "**Conclusão da Análise de Tendências**\n",
      "As tendências de crescimento nas receitas e na margem de lucro são encorajadoras, mas a empresa deve tomar cuidado com o aumento dos custos. A implementação de medidas de eficiência operacional pode ser crucial para manter o crescimento.\n",
      "\n",
      "**4. Análise de Receita e Lucro**\n",
      "As receitas da ACME Corp totalizaram R$ 5.000.000,00 no Q1 2024, resultando em um lucro líquido de R$ 600.000,00, o que representa uma margem de lucro de 12%. Esse crescimento na receita foi impulsionado por um aumento na demanda pelos produtos da empresa. No entanto, a concorrência está aumentando, o que pode pressionar as margens no futuro. É vital que a ACME Corp continue a inovar e diferenciar seus produtos para se manter competitiva.\n",
      "\n",
      "**Conclusão da Análise de Receita e Lucro**\n",
      "Embora a receita e o lucro estejam em crescimento, a empresa deve se manter atenta à concorrência crescente e buscar inovações constantes para preservar suas margens.\n",
      "\n",
      "**5. Análise de Posição de Mercado**\n",
      "A ACME Corp mantém uma participação de mercado de 25% no seu setor, consolidando-se como um dos principais players. A empresa investiu em marketing e branding, fortalecendo sua imagem no mercado. Entretanto, a entrada de novos concorrentes pode representar um desafio. A ACME Corp deve continuar a monitorar as tendências do mercado e a resposta dos consumidores para sustentar sua posição competitiva.\n",
      "\n",
      "**Conclusão da Análise de Posição de Mercado**\n",
      "A posição de mercado da ACME Corp é sólida, mas a empresa deve estar atenta às mudanças no ambiente competitivo e desenvolver estratégias para se diferenciar continuamente.\n",
      "\n",
      "**Considerações F\n"
     ]
    }
   ],
   "source": [
    "openai = OpenAI(model_name='gpt-4o-mini',max_tokens=2000) #max 4096\n",
    "\n",
    "response = openai.invoke(prompt)\n",
    "print(\"Saída do LLM:\\n\", response)"
   ]
  },
  {
   "cell_type": "markdown",
   "metadata": {},
   "source": [
    "# Chat"
   ]
  },
  {
   "cell_type": "code",
   "execution_count": 11,
   "metadata": {
    "id": "QGQUp499fKBZ"
   },
   "outputs": [],
   "source": [
    "#equivalência aos roles: system: system, Human: user, AI: assistant\n",
    "chat_template = ChatPromptTemplate.from_messages(\n",
    "    [\n",
    "        SystemMessage(content='Você deve estruturar suas respostas de acordo com o método de análise de negócios, garantindo clareza e concisão.'),\n",
    "        HumanMessagePromptTemplate.from_template('Por favor, gere um relatório detalhado sobre a indústria de tecnologia na região \"{regiao}\".'),\n",
    "        AIMessage(content='Claro, vou começar coletando informações sobre a região e analisando os dados disponíveis.'),\n",
    "        HumanMessage(content='Certifique-se de incluir uma análise SWOT e uma previsão de crescimento para os próximos 5 anos.'),\n",
    "        AIMessage(content='Entendido. Aqui está o relatório completo:')\n",
    "    ]\n",
    ")"
   ]
  },
  {
   "cell_type": "code",
   "execution_count": 12,
   "metadata": {
    "colab": {
     "base_uri": "https://localhost:8080/"
    },
    "id": "WDxgxLrofKEc",
    "outputId": "a3e79711-b163-4824-fed8-0f2c399a4b3f"
   },
   "outputs": [
    {
     "name": "stdout",
     "output_type": "stream",
     "text": [
      "[SystemMessage(content='Você deve estruturar suas respostas de acordo com o método de análise de negócios, garantindo clareza e concisão.'), HumanMessage(content='Por favor, gere um relatório detalhado sobre a indústria de tecnologia na região \"América Latina\".'), AIMessage(content='Claro, vou começar coletando informações sobre a região e analisando os dados disponíveis.'), HumanMessage(content='Certifique-se de incluir uma análise SWOT e uma previsão de crescimento para os próximos 5 anos.'), AIMessage(content='Entendido. Aqui está o relatório completo:')]\n"
     ]
    }
   ],
   "source": [
    "prompt_gerado = chat_template.format_messages(regiao='América Latina')\n",
    "print(prompt_gerado)  "
   ]
  },
  {
   "cell_type": "code",
   "execution_count": 13,
   "metadata": {
    "colab": {
     "base_uri": "https://localhost:8080/"
    },
    "editable": true,
    "id": "daEu9my2fKHm",
    "outputId": "aeeb4f0b-a4bd-4596-c5b3-affc6b8e3426",
    "slideshow": {
     "slide_type": ""
    },
    "tags": []
   },
   "outputs": [
    {
     "name": "stdout",
     "output_type": "stream",
     "text": [
      "Saída do LLM:\n",
      " ### Relatório sobre a Indústria de Tecnologia na América Latina\n",
      "\n",
      "#### 1. Introdução\n",
      "A indústria de tecnologia na América Latina tem mostrado um crescimento significativo nos últimos anos, impulsionado pela digitalização, crescente adoção de tecnologias emergentes e um ecossistema de startups em expansão. Este relatório analisa o estado atual da indústria, incluindo uma análise SWOT e previsões de crescimento para os próximos cinco anos.\n",
      "\n",
      "#### 2. Estado Atual da Indústria\n",
      "- **Crescimento do Setor**: Em 2022, o mercado de tecnologia na América Latina foi avaliado em aproximadamente USD 100 bilhões, com uma taxa de crescimento anual composta (CAGR) de 10% prevista até 2027.\n",
      "- **Principais Setores**: Software, e-commerce, fintechs, educação online e saúde digital estão entre os segmentos mais dinâmicos.\n",
      "- **Investimentos**: O investimento em startups de tecnologia na região atingiu recordes, com mais de USD 4 bilhões em 2021.\n",
      "\n",
      "#### 3. Análise SWOT\n",
      "\n",
      "**Forças**:\n",
      "- **Recursos Humanos**: Grande disponibilidade de talentos qualificados em tecnologia, com uma população jovem e crescente.\n",
      "- **Mercado em Expansão**: Aumento da penetração de internet e smartphone, facilitando o acesso a serviços digitais.\n",
      "- **Inovação**: Um ecossistema de startups vibrante, especialmente em países como Brasil, México e Argentina.\n",
      "\n",
      "**Fraquezas**:\n",
      "- **Infraestrutura**: A infraestrutura de internet e tecnologia é desigual, com áreas rurais e menos desenvolvidas enfrentando desafios de conectividade.\n",
      "- **Regulação**: Ambientes regulatórios complexos e, por vezes, instáveis que podem inibir investimentos.\n",
      "\n",
      "**Oportunidades**:\n",
      "- **Digitalização**: A crescente demanda por soluções digitais em setores tradicionais, como agricultura, manufatura e serviços.\n",
      "- **Apoio Governamental**: Iniciativas governamentais para promover a inovação e o empreendedorismo tecnológico.\n",
      "\n",
      "**Ameaças**:\n",
      "- **Concorrência Global**: A competição de empresas de tecnologia de regiões mais desenvolvidas, como EUA e Europa.\n",
      "- **Instabilidade Política e Econômica**: Mudanças políticas e crises econômicas que podem impactar o investimento e o crescimento.\n",
      "\n",
      "#### 4. Previsão de Crescimento (2023-2028)\n",
      "- **Crescimento Geral**: Espera-se que o mercado de tecnologia na América Latina cresça a uma taxa de 10% ao ano, alcançando aproximadamente USD 160 bilhões até 2028.\n",
      "- **Setores em Alta**:\n",
      "  - **Fintech**: Projeções indicam que o setor fintech pode crescer 20% ao ano, com um aumento na adoção de serviços financeiros digitais.\n",
      "  - **E-commerce**: O e-commerce está projetado para crescer 15% ao ano, impulsionado pela mudança no comportamento do consumidor e pela digitalização do varejo.\n",
      "  - **Educação Online**: O setor de edtech deve crescer 18%, com uma demanda crescente por soluções de aprendizado digital.\n",
      "\n",
      "#### 5. Conclusão\n",
      "A indústria de tecnologia na América Latina está em um ponto de inflexão, com potenciais significativos de crescimento e inovação. Apesar dos desafios, as oportunidades superam as ameaças, especialmente à medida que a região continua a avançar em direção à digitalização e à modernização de sua economia. Para os próximos cinco anos, o foco em infraestrutura, regulação e apoio a startups será crucial para capitalizar sobre as tendências emergentes.\n",
      "\n",
      "### Recomendações\n",
      "- Investir em parcerias entre o setor privado e o governo para melhorar a infraestrutura.\n",
      "- Fomentar programas de capacitação e educação em tecnologia.\n",
      "- Criar ambientes regulatórios que incentivem a inovação e o investimento estrangeiro.\n",
      "\n",
      "Este relatório fornece uma visão abrangente do potencial e dos desafios da indústria de tecnologia na América Latina, oferecendo insights valiosos para investidores, empreendedores e formuladores de políticas.\n"
     ]
    }
   ],
   "source": [
    "openai = ChatOpenAI(model_name='gpt-4o-mini')\n",
    "response = openai.invoke(prompt_gerado)\n",
    "print(\"Saída do LLM:\\n\", response.content)"
   ]
  }
 ],
 "metadata": {
  "colab": {
   "provenance": []
  },
  "kernelspec": {
   "display_name": ".venv",
   "language": "python",
   "name": "python3"
  },
  "language_info": {
   "codemirror_mode": {
    "name": "ipython",
    "version": 3
   },
   "file_extension": ".py",
   "mimetype": "text/x-python",
   "name": "python",
   "nbconvert_exporter": "python",
   "pygments_lexer": "ipython3",
   "version": "3.11.11+"
  }
 },
 "nbformat": 4,
 "nbformat_minor": 4
}
