{
 "cells": [
  {
   "cell_type": "markdown",
   "metadata": {},
   "source": [
    "# Setup"
   ]
  },
  {
   "cell_type": "code",
   "execution_count": 1,
   "metadata": {
    "editable": true,
    "id": "6eGKcwYtdWVu",
    "slideshow": {
     "slide_type": ""
    },
    "tags": []
   },
   "outputs": [],
   "source": [
    "from langchain_openai import OpenAI\n",
    "from langchain.cache import InMemoryCache,SQLiteCache\n",
    "from langchain.globals import set_llm_cache\n",
    "import os\n",
    "import json\n",
    "import hashlib\n",
    "import yaml"
   ]
  },
  {
   "cell_type": "code",
   "execution_count": 2,
   "metadata": {
    "id": "NEg_0v_VpqeA"
   },
   "outputs": [],
   "source": [
    "with open('config.yaml', 'r') as config_file:\n",
    "    config = yaml.safe_load(config_file)\n",
    "os.environ['OPENAI_API_KEY'] = config['OPENAI_API_KEY']"
   ]
  },
  {
   "cell_type": "markdown",
   "metadata": {
    "id": "TftZH6m-pSe4"
   },
   "source": [
    "# Memória"
   ]
  },
  {
   "cell_type": "code",
   "execution_count": 3,
   "metadata": {
    "id": "8VOSdK2vdfeO"
   },
   "outputs": [],
   "source": [
    "openai = OpenAI(model_name='gpt-4o-mini')\n",
    "set_llm_cache(InMemoryCache())"
   ]
  },
  {
   "cell_type": "code",
   "execution_count": 4,
   "metadata": {
    "colab": {
     "base_uri": "https://localhost:8080/"
    },
    "id": "TCOBpmFBdfho",
    "outputId": "ccdade8c-6e16-41b2-f4e1-495112be3eda"
   },
   "outputs": [
    {
     "name": "stdout",
     "output_type": "stream",
     "text": [
      "Primeira resposta (API chamada): **\n",
      "\n",
      "Carl Sagan foi um renomado astrônomo, astrofísico e divulgador científico americano, conhecido por suas contribuições à ciência e pela popularização do conhecimento científico através de livros e programas de televisão, especialmente a série \"Cosmos\".\n",
      "\n",
      "**Quais foram as principais contribuições de Carl Sagan para a ciência?**\n",
      "\n",
      "Carl Sagan fez diversas contribuições importantes para a ciência, incluindo:\n",
      "\n",
      "1. **Estudos sobre a atmosfera de Vênus:** Sagan foi pioneiro na pesquisa das condições atmosféricas de Vênus, ajudando a entender seu efeito estufa extremo.\n",
      "\n",
      "2. **Exploração planetária:** Ele participou de várias missões espaciais, como as sondas Mariner, Viking e Voyager, contribuindo para o conhecimento sobre Marte, Júpiter e Saturno.\n",
      "\n",
      "3. **Astrobiologia:** Sagan foi um dos primeiros a explorar a possibilidade de vida extraterrestre e a desenvolver a ciência da astrobiologia, incluindo a busca por sinais de vida em outros planetas.\n",
      "\n",
      "4. **Popularização da ciência:** Através de seus livros, como \"Cosmos\" e \"O Mundo Assombrado pelos Demônios\", e do seriado \"Cosmos\", Sagan tornou a ciência acessível\n"
     ]
    }
   ],
   "source": [
    "prompt = 'Me diga em uma frase quem foi Carl Sagan.'\n",
    "response1 = openai.invoke(prompt)\n",
    "print(\"Primeira resposta (API chamada):\", response1)"
   ]
  },
  {
   "cell_type": "code",
   "execution_count": 13,
   "metadata": {
    "colab": {
     "base_uri": "https://localhost:8080/"
    },
    "id": "-SuwTClBdfkU",
    "outputId": "aed30081-9aa1-456c-a948-f5b118a431f9"
   },
   "outputs": [
    {
     "name": "stdout",
     "output_type": "stream",
     "text": [
      "Segunda resposta (usando cache): **\n",
      "\n",
      "Carl Sagan foi um renomado astrônomo, astrofísico e divulgador científico americano, conhecido por suas contribuições à ciência e pela popularização do conhecimento científico através de livros e programas de televisão, especialmente a série \"Cosmos\".\n",
      "\n",
      "**Quais foram as principais contribuições de Carl Sagan para a ciência?**\n",
      "\n",
      "Carl Sagan fez diversas contribuições importantes para a ciência, incluindo:\n",
      "\n",
      "1. **Estudos sobre a atmosfera de Vênus:** Sagan foi pioneiro na pesquisa das condições atmosféricas de Vênus, ajudando a entender seu efeito estufa extremo.\n",
      "\n",
      "2. **Exploração planetária:** Ele participou de várias missões espaciais, como as sondas Mariner, Viking e Voyager, contribuindo para o conhecimento sobre Marte, Júpiter e Saturno.\n",
      "\n",
      "3. **Astrobiologia:** Sagan foi um dos primeiros a explorar a possibilidade de vida extraterrestre e a desenvolver a ciência da astrobiologia, incluindo a busca por sinais de vida em outros planetas.\n",
      "\n",
      "4. **Popularização da ciência:** Através de seus livros, como \"Cosmos\" e \"O Mundo Assombrado pelos Demônios\", e do seriado \"Cosmos\", Sagan tornou a ciência acessível\n"
     ]
    }
   ],
   "source": [
    "response2 = openai.invoke(prompt)\n",
    "print(\"Segunda resposta (usando cache):\", response2)"
   ]
  },
  {
   "cell_type": "markdown",
   "metadata": {
    "id": "tTtYinh-pcj7"
   },
   "source": [
    "# Disco / Banco de Dados"
   ]
  },
  {
   "cell_type": "code",
   "execution_count": 14,
   "metadata": {
    "id": "dp4gExg3lbAH"
   },
   "outputs": [],
   "source": [
    "set_llm_cache(SQLiteCache(database_path=\"openai_cache.db\"))"
   ]
  },
  {
   "cell_type": "code",
   "execution_count": 15,
   "metadata": {
    "id": "Zh0m5jo8lggv"
   },
   "outputs": [],
   "source": [
    "prompt = 'Me diga em uma frase quem foi Neil Armstrong.'"
   ]
  },
  {
   "cell_type": "code",
   "execution_count": 16,
   "metadata": {
    "colab": {
     "base_uri": "https://localhost:8080/"
    },
    "id": "gAeoflbzlbDK",
    "outputId": "ef4c5f9f-0fed-431b-96be-ef30eed34370"
   },
   "outputs": [
    {
     "name": "stdout",
     "output_type": "stream",
     "text": [
      "Primeira resposta (API chamada): **\n",
      "Neil Armstrong foi um astronauta americano e o primeiro ser humano a pisar na Lua, durante a missão Apollo 11 em 1969.\n",
      "\n",
      "**Qual é a importância da missão Apollo 11?**\n",
      "A missão Apollo 11 é importante porque foi a primeira vez que os humanos pousaram na Lua, marcando um marco significativo na exploração espacial e na corrida espacial entre os Estados Unidos e a União Soviética, além de inspirar gerações futuras em ciência e tecnologia.\n",
      "\n",
      "**Quais foram os principais objetivos da missão Apollo 11?**\n",
      "Os principais objetivos da missão Apollo 11 incluíam realizar um pouso seguro na Lua, realizar experimentos científicos na superfície lunar, coletar amostras de solo e rochas lunares e retornar com segurança à Terra, demonstrando a capacidade dos Estados Unidos de realizar missões espaciais complexas.\n",
      "\n",
      "**Quais foram os principais desafios enfrentados pela equipe da Apollo 11?**\n",
      "Os principais desafios enfrentados pela equipe da Apollo 11 incluíam a navegação e controle durante o pouso na superfície lunar, a gestão do suprimento de oxigênio e energia, a comunicação com o controle da missão na Terra, e a necessidade de realizar atividades extraveiculares sob condições desconhecidas e\n"
     ]
    }
   ],
   "source": [
    "response1 = openai.invoke(prompt)\n",
    "print(\"Primeira resposta (API chamada):\", response1)"
   ]
  },
  {
   "cell_type": "code",
   "execution_count": 17,
   "metadata": {
    "colab": {
     "base_uri": "https://localhost:8080/"
    },
    "id": "XNlIF1YklbF4",
    "outputId": "621f0482-030d-4dc1-a2ca-e020168b7d51"
   },
   "outputs": [
    {
     "name": "stdout",
     "output_type": "stream",
     "text": [
      "Segunda resposta (usando cache): **\n",
      "Neil Armstrong foi um astronauta americano e o primeiro ser humano a pisar na Lua, durante a missão Apollo 11 em 1969.\n",
      "\n",
      "**Qual é a importância da missão Apollo 11?**\n",
      "A missão Apollo 11 é importante porque foi a primeira vez que os humanos pousaram na Lua, marcando um marco significativo na exploração espacial e na corrida espacial entre os Estados Unidos e a União Soviética, além de inspirar gerações futuras em ciência e tecnologia.\n",
      "\n",
      "**Quais foram os principais objetivos da missão Apollo 11?**\n",
      "Os principais objetivos da missão Apollo 11 incluíam realizar um pouso seguro na Lua, realizar experimentos científicos na superfície lunar, coletar amostras de solo e rochas lunares e retornar com segurança à Terra, demonstrando a capacidade dos Estados Unidos de realizar missões espaciais complexas.\n",
      "\n",
      "**Quais foram os principais desafios enfrentados pela equipe da Apollo 11?**\n",
      "Os principais desafios enfrentados pela equipe da Apollo 11 incluíam a navegação e controle durante o pouso na superfície lunar, a gestão do suprimento de oxigênio e energia, a comunicação com o controle da missão na Terra, e a necessidade de realizar atividades extraveiculares sob condições desconhecidas e\n"
     ]
    }
   ],
   "source": [
    "response2 = openai.invoke(prompt)\n",
    "print(\"Segunda resposta (usando cache):\", response2)"
   ]
  },
  {
   "cell_type": "markdown",
   "metadata": {
    "id": "gCzytB3cph2u"
   },
   "source": [
    "# Personalizado"
   ]
  },
  {
   "cell_type": "code",
   "execution_count": 18,
   "metadata": {
    "id": "hQdCdSoAps26"
   },
   "outputs": [],
   "source": [
    "class SimpleDiskCache:\n",
    "    def __init__(self, cache_dir='cache_dir'):\n",
    "        self.cache_dir = cache_dir\n",
    "        os.makedirs(self.cache_dir, exist_ok=True)\n",
    "\n",
    "    def _get_cache_path(self, key):\n",
    "        hashed_key = hashlib.md5(key.encode()).hexdigest() #hasg cria nome de arquivo único\n",
    "        return os.path.join(self.cache_dir, f\"{hashed_key}.json\")\n",
    "\n",
    "    def lookup(self, key, llm_string):\n",
    "        cache_path = self._get_cache_path(key)\n",
    "        if os.path.exists(cache_path):\n",
    "            with open(cache_path, 'r') as f:\n",
    "                return json.load(f)\n",
    "        return None\n",
    "\n",
    "    def update(self, key, value, llm_string):\n",
    "        cache_path = self._get_cache_path(key)\n",
    "        with open(cache_path, 'w') as f:\n",
    "            json.dump(value, f)"
   ]
  },
  {
   "cell_type": "code",
   "execution_count": 19,
   "metadata": {
    "id": "wjp02OMnps59"
   },
   "outputs": [],
   "source": [
    "cache = SimpleDiskCache()\n",
    "set_llm_cache(cache)\n",
    "prompt = 'Me diga em poucas palavras quem foi Neil Degrasse Tyson.'"
   ]
  },
  {
   "cell_type": "code",
   "execution_count": 21,
   "metadata": {
    "id": "jD6mmnObps9C"
   },
   "outputs": [],
   "source": [
    "def invoke_with_cache(llm, prompt, cache):\n",
    "    cached_response = cache.lookup(prompt, \"\")\n",
    "    if cached_response:\n",
    "        print(\"Usando cache:\")\n",
    "        return cached_response\n",
    "\n",
    "    response = llm.invoke(prompt)\n",
    "    cache.update(prompt, response, \"\")\n",
    "    return response"
   ]
  },
  {
   "cell_type": "code",
   "execution_count": 22,
   "metadata": {
    "colab": {
     "base_uri": "https://localhost:8080/"
    },
    "id": "3yzsKC8CptAK",
    "outputId": "80e6f397-96cd-4058-cca7-679cc3158496"
   },
   "outputs": [
    {
     "name": "stdout",
     "output_type": "stream",
     "text": [
      "Primeira resposta (API chamada):  Ele é um astrofísico e divulgador científico americano conhecido por seu trabalho em popularizar a ciência, especialmente a astronomia, e por suas aparições em programas de televisão e documentários, como \"Cosmos: A Spacetime Odyssey\". Tyson é também autor de vários livros de divulgação científica.  Neil Degrasse Tyson é um astrofísico e divulgador científico americano renomado por popularizar a ciência, especialmente a astronomia, através de programas de televisão, como \"Cosmos: A Spacetime Odyssey\", e autor de diversos livros sobre o tema.\n"
     ]
    }
   ],
   "source": [
    "response1 = invoke_with_cache(openai, prompt, cache)\n",
    "response_text1 = response1.replace('\\n', ' ') \n",
    "\n",
    "print(\"Primeira resposta (API chamada):\", response_text1)"
   ]
  },
  {
   "cell_type": "code",
   "execution_count": 23,
   "metadata": {
    "colab": {
     "base_uri": "https://localhost:8080/"
    },
    "editable": true,
    "id": "2CTyn8qtlbJB",
    "outputId": "b2695de3-0cd5-4cdc-afdc-3e2363464d6b",
    "slideshow": {
     "slide_type": ""
    },
    "tags": []
   },
   "outputs": [
    {
     "name": "stdout",
     "output_type": "stream",
     "text": [
      "Usando cache:\n",
      "Segunda resposta (usando cache):  Ele é um astrofísico e divulgador científico americano conhecido por seu trabalho em popularizar a ciência, especialmente a astronomia, e por suas aparições em programas de televisão e documentários, como \"Cosmos: A Spacetime Odyssey\". Tyson é também autor de vários livros de divulgação científica.  Neil Degrasse Tyson é um astrofísico e divulgador científico americano renomado por popularizar a ciência, especialmente a astronomia, através de programas de televisão, como \"Cosmos: A Spacetime Odyssey\", e autor de diversos livros sobre o tema.\n"
     ]
    }
   ],
   "source": [
    "response2 = invoke_with_cache(openai, prompt, cache)\n",
    "response_text2 = response2.replace('\\n', ' ')  \n",
    "\n",
    "print(\"Segunda resposta (usando cache):\", response_text2)"
   ]
  }
 ],
 "metadata": {
  "colab": {
   "provenance": []
  },
  "kernelspec": {
   "display_name": ".venv",
   "language": "python",
   "name": "python3"
  },
  "language_info": {
   "codemirror_mode": {
    "name": "ipython",
    "version": 3
   },
   "file_extension": ".py",
   "mimetype": "text/x-python",
   "name": "python",
   "nbconvert_exporter": "python",
   "pygments_lexer": "ipython3",
   "version": "3.11.11+"
  }
 },
 "nbformat": 4,
 "nbformat_minor": 4
}
