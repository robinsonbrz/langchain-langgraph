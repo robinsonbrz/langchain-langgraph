{
 "cells": [
  {
   "cell_type": "markdown",
   "id": "VQe1EWNB53ub",
   "metadata": {
    "editable": true,
    "id": "VQe1EWNB53ub",
    "slideshow": {
     "slide_type": ""
    },
    "tags": []
   },
   "source": [
    "# Setup"
   ]
  },
  {
   "cell_type": "code",
   "execution_count": 1,
   "id": "9q2TSFWGpHqv",
   "metadata": {
    "editable": true,
    "id": "9q2TSFWGpHqv",
    "slideshow": {
     "slide_type": ""
    },
    "tags": []
   },
   "outputs": [],
   "source": [
    "from openai import OpenAI\n",
    "import os\n",
    "import yaml"
   ]
  },
  {
   "cell_type": "code",
   "execution_count": 2,
   "id": "fCjATY8npLWt",
   "metadata": {
    "editable": true,
    "id": "fCjATY8npLWt",
    "slideshow": {
     "slide_type": ""
    },
    "tags": []
   },
   "outputs": [],
   "source": [
    "with open('config.yaml', 'r') as config_file:\n",
    "    config = yaml.safe_load(config_file)\n",
    "    \n",
    "os.environ['OPENAI_API_KEY'] = config['OPENAI_API_KEY']"
   ]
  },
  {
   "cell_type": "markdown",
   "id": "aREP45DB5vUF",
   "metadata": {
    "id": "aREP45DB5vUF"
   },
   "source": [
    "# Chat Básico"
   ]
  },
  {
   "cell_type": "code",
   "execution_count": 3,
   "id": "9578b19b-d6d4-4a88-91af-d3c600877e83",
   "metadata": {
    "editable": true,
    "id": "9578b19b-d6d4-4a88-91af-d3c600877e83",
    "slideshow": {
     "slide_type": ""
    },
    "tags": []
   },
   "outputs": [],
   "source": [
    "client = OpenAI()\n",
    "model = \"gpt-4o-mini\"\n",
    "\n",
    "response = client.chat.completions.create(\n",
    "  model=model,\n",
    "  messages=[\n",
    "    {\"role\": \"user\", \"content\": \"Conte uma Piada!\"}\n",
    "  ]\n",
    ")"
   ]
  },
  {
   "cell_type": "code",
   "execution_count": 4,
   "id": "0MFu31TYr-ne",
   "metadata": {
    "colab": {
     "base_uri": "https://localhost:8080/"
    },
    "id": "0MFu31TYr-ne",
    "outputId": "7b431798-8cad-4ad5-92c5-ca816b621ea8"
   },
   "outputs": [
    {
     "name": "stdout",
     "output_type": "stream",
     "text": [
      "ChatCompletion(id='chatcmpl-BVRl5BXqZYr9ZF9pUEzhu5Rqfo9tw', choices=[Choice(finish_reason='stop', index=0, logprobs=None, message=ChatCompletionMessage(content='Claro! Aqui vai uma piada:\\n\\nPor que o tomate foi ao banco?\\n\\nPorque ele queria fazer um \"investimento\" saudável! 🍅💰', refusal=None, role='assistant', annotations=[], audio=None, function_call=None, tool_calls=None))], created=1746834571, model='gpt-4o-mini-2024-07-18', object='chat.completion', service_tier='default', system_fingerprint='fp_0392822090', usage=CompletionUsage(completion_tokens=32, prompt_tokens=12, total_tokens=44, completion_tokens_details=CompletionTokensDetails(accepted_prediction_tokens=0, audio_tokens=0, reasoning_tokens=0, rejected_prediction_tokens=0), prompt_tokens_details=PromptTokensDetails(audio_tokens=0, cached_tokens=0)))\n"
     ]
    }
   ],
   "source": [
    "print(response)"
   ]
  },
  {
   "cell_type": "code",
   "execution_count": 5,
   "id": "-AzG_vxI6fq1",
   "metadata": {
    "colab": {
     "base_uri": "https://localhost:8080/"
    },
    "id": "-AzG_vxI6fq1",
    "outputId": "8a7413c7-5f5f-4509-c0bc-a17d4b0bc449"
   },
   "outputs": [
    {
     "name": "stdout",
     "output_type": "stream",
     "text": [
      "<class 'openai.types.chat.chat_completion.ChatCompletion'>\n"
     ]
    }
   ],
   "source": [
    "print(type(response))"
   ]
  },
  {
   "cell_type": "code",
   "execution_count": 6,
   "id": "R5YhBSLw9Nex",
   "metadata": {
    "colab": {
     "base_uri": "https://localhost:8080/"
    },
    "id": "R5YhBSLw9Nex",
    "outputId": "8b23bd65-7782-4dc1-cc39-886d9438dc36"
   },
   "outputs": [
    {
     "name": "stdout",
     "output_type": "stream",
     "text": [
      "Claro! Aqui vai uma piada:\n",
      "\n",
      "Por que o tomate foi ao banco?\n",
      "\n",
      "Porque ele queria fazer um \"investimento\" saudável! 🍅💰\n"
     ]
    }
   ],
   "source": [
    "message = (response.choices[0].message.content)\n",
    "print(message)"
   ]
  },
  {
   "cell_type": "markdown",
   "id": "CVyIIb6ztV_S",
   "metadata": {
    "id": "CVyIIb6ztV_S"
   },
   "source": [
    "# Roles\n"
   ]
  },
  {
   "cell_type": "code",
   "execution_count": 7,
   "id": "INk7iK_ktaGJ",
   "metadata": {
    "id": "INk7iK_ktaGJ"
   },
   "outputs": [
    {
     "name": "stdout",
     "output_type": "stream",
     "text": [
      "ChatCompletion(id='chatcmpl-BVRnyA2xgaNdy47PxaqyTNxakXUAb', choices=[Choice(finish_reason='stop', index=0, logprobs=None, message=ChatCompletionMessage(content=\"While I can't provide personalized investment advice, I can highlight some common low-risk investment options that are generally considered to be safer:\\n\\n1. **High-Yield Savings Accounts**: These accounts typically offer higher interest rates than traditional savings accounts and are FDIC-insured up to $250,000.\\n\\n2. **Certificates of Deposit (CDs)**: CDs lock your money for a specific period (ranging from a few months to several years) and usually offer higher interest rates than regular savings accounts. They are also FDIC-insured.\\n\\n3. **Treasury Securities**: U.S. Treasury bonds, bills, and notes are backed by the government and considered to be one of the safest investments. They offer predictable returns, especially Treasury Inflation-Protected Securities (TIPS) which adjust with inflation.\\n\\n4. **Municipal Bonds**: Issued by state and local governments, these bonds can be a low-risk investment, especially if you select those with high credit ratings. They often offer tax advantages as well.\\n\\n5. **Corporate Bonds**: Investment-grade corporate bonds are issued by financially stable companies and generally considered less risky than stocks. Look for those rated BBB or higher by credit rating agencies.\\n\\n6. **Index Funds or ETFs**: While they carry some risk associated with market movements, investing in low-volatility index funds, such as those tracking the S&P 500 or other large, stable companies, can provide a good balance between growth and risk.\\n\\n7. **Fixed Annuities**: These insurance products offer guaranteed returns and can serve as a steady income source, especially for retirees.\\n\\nIt's essential to consider your financial goals, investment horizon, and risk tolerance before making decisions. Consulting with a financial adviser tailored to your circumstances is also always advisable.\", refusal=None, role='assistant', annotations=[], audio=None, function_call=None, tool_calls=None))], created=1746834750, model='gpt-4o-mini-2024-07-18', object='chat.completion', service_tier='default', system_fingerprint='fp_0392822090', usage=CompletionUsage(completion_tokens=355, prompt_tokens=31, total_tokens=386, completion_tokens_details=CompletionTokensDetails(accepted_prediction_tokens=0, audio_tokens=0, reasoning_tokens=0, rejected_prediction_tokens=0), prompt_tokens_details=PromptTokensDetails(audio_tokens=0, cached_tokens=0)))\n"
     ]
    }
   ],
   "source": [
    "response = client.chat.completions.create(\n",
    "  model=model,\n",
    "  messages=[\n",
    "    {\"role\": \"system\", \"content\": \"You are a fictional investment assistant.\"},\n",
    "    {\"role\": \"user\", \"content\": \"What is the best low-risk investment you recommend for this year?\"}\n",
    "  ]\n",
    ")\n",
    "print(response)"
   ]
  },
  {
   "cell_type": "code",
   "execution_count": 8,
   "id": "WA2oAT2jtaKT",
   "metadata": {
    "colab": {
     "base_uri": "https://localhost:8080/"
    },
    "id": "WA2oAT2jtaKT",
    "outputId": "7b34b6c6-53a6-4600-95b5-7c94d5a3cc89"
   },
   "outputs": [
    {
     "name": "stdout",
     "output_type": "stream",
     "text": [
      "While I can't provide personalized investment advice, I can highlight some common low-risk investment options that are generally considered to be safer:\n",
      "\n",
      "1. **High-Yield Savings Accounts**: These accounts typically offer higher interest rates than traditional savings accounts and are FDIC-insured up to $250,000.\n",
      "\n",
      "2. **Certificates of Deposit (CDs)**: CDs lock your money for a specific period (ranging from a few months to several years) and usually offer higher interest rates than regular savings accounts. They are also FDIC-insured.\n",
      "\n",
      "3. **Treasury Securities**: U.S. Treasury bonds, bills, and notes are backed by the government and considered to be one of the safest investments. They offer predictable returns, especially Treasury Inflation-Protected Securities (TIPS) which adjust with inflation.\n",
      "\n",
      "4. **Municipal Bonds**: Issued by state and local governments, these bonds can be a low-risk investment, especially if you select those with high credit ratings. They often offer tax advantages as well.\n",
      "\n",
      "5. **Corporate Bonds**: Investment-grade corporate bonds are issued by financially stable companies and generally considered less risky than stocks. Look for those rated BBB or higher by credit rating agencies.\n",
      "\n",
      "6. **Index Funds or ETFs**: While they carry some risk associated with market movements, investing in low-volatility index funds, such as those tracking the S&P 500 or other large, stable companies, can provide a good balance between growth and risk.\n",
      "\n",
      "7. **Fixed Annuities**: These insurance products offer guaranteed returns and can serve as a steady income source, especially for retirees.\n",
      "\n",
      "It's essential to consider your financial goals, investment horizon, and risk tolerance before making decisions. Consulting with a financial adviser tailored to your circumstances is also always advisable.\n"
     ]
    }
   ],
   "source": [
    "message = (response.choices[0].message.content)\n",
    "print(message)"
   ]
  },
  {
   "cell_type": "code",
   "execution_count": 10,
   "id": "tezwtJFstaNc",
   "metadata": {
    "id": "tezwtJFstaNc"
   },
   "outputs": [
    {
     "name": "stdout",
     "output_type": "stream",
     "text": [
      "While U.S. Treasury securities are generally considered low-risk investments due to their backing by the federal government, there are several risks associated with them that investors should be aware of:\n",
      "\n",
      "1. **Interest Rate Risk**: Treasury securities have fixed interest rates, which means that if interest rates rise, the prices of existing Treasury bonds will typically fall. This could lead to losses if you need to sell the bond before it matures.\n",
      "\n",
      "2. **Inflation Risk**: Treasury securities, especially fixed-rate bonds, are susceptible to inflation. If inflation rises significantly, the purchasing power of the interest and principal payments may diminish, leading to a real loss in value over time.\n",
      "\n",
      "3. **Reinvestment Risk**: When Treasury securities mature or when you receive interest payments, you may be faced with reinvestment risk if prevailing interest rates are lower than those on the original security, potentially leading to lower returns on those reinvested funds.\n",
      "\n",
      "4. **Market Risk**: Although Treasury securities are considered safe, they can still be affected by broader market conditions. A downturn in the market can lead to fluctuations in bond prices.\n",
      "\n",
      "5. **Liquidity Risk**: While Treasuries are generally liquid and can be easily sold in the market, specific securities with smaller issue sizes may not be as easy to sell without impacting the price. This can be more relevant for Treasury securities issued with shorter maturities.\n",
      "\n",
      "6. **Currency Risk (for Foreign Investors)**: Investors outside the U.S. may face currency risk, as fluctuations in exchange rates can affect the value of the returns when converted back to their local currency.\n",
      "\n",
      "7. **Political Risk**: While rare, changes in government policies or fiscal conditions could impact the perceived safety of Treasury securities, especially during periods of political uncertainty.\n",
      "\n",
      "8. **Opportunity Cost**: By investing in Treasuries, investors may miss out on higher returns from riskier assets, such as stocks or corporate bonds, especially during bull markets.\n",
      "\n",
      "Understanding these risks will help investors balance their portfolios and make informed decisions regarding Treasury securities relative to their overall investment strategy.\n"
     ]
    }
   ],
   "source": [
    "response = client.chat.completions.create(\n",
    "  model=model,\n",
    "  messages=[\n",
    "    {\"role\": \"assistant\", \"content\": message},\n",
    "    {\"role\": \"user\", \"content\": \"What are the risks related to Treasury Securities?\"}\n",
    "  ]\n",
    ")\n",
    "print(response.choices[0].message.content)"
   ]
  },
  {
   "cell_type": "markdown",
   "id": "A353flWN6s2k",
   "metadata": {
    "id": "A353flWN6s2k"
   },
   "source": [
    "## Hiper Parâmetros"
   ]
  },
  {
   "cell_type": "code",
   "execution_count": 11,
   "id": "5XnTW97G3IOn",
   "metadata": {
    "id": "5XnTW97G3IOn"
   },
   "outputs": [],
   "source": [
    "response = client.chat.completions.create(\n",
    "  model=model,\n",
    "  frequency_penalty=1,\n",
    "  presence_penalty = 1,\n",
    "  temperature =  1 ,\n",
    "  max_tokens=50,\n",
    "  n = 2 ,\n",
    "  seed = 123,\n",
    "  #stop = [\"shadows\",\"mortal \"],\n",
    "  messages=[\n",
    "    {\"role\": \"system\", \"content\": \"You are a depressed and disillusioned poet.\"},\n",
    "    {\"role\": \"user\", \"content\": \"Compose a poem about the ephemerality of existence.\"}\n",
    "  ]\n",
    ")"
   ]
  },
  {
   "cell_type": "code",
   "execution_count": 12,
   "id": "4LsjzYy639kg",
   "metadata": {
    "id": "4LsjzYy639kg"
   },
   "outputs": [
    {
     "name": "stdout",
     "output_type": "stream",
     "text": [
      "In the garden of seconds, petals fall,  \n",
      "Time's fleeting fingers weave an idle thrall.  \n",
      "A whisper of twilight brushes the day,  \n",
      "Yet shadows stretch longer as colors decay.  \n",
      "\n",
      "Oh fragile dreams in the vastness unfurl,  \n",
      "\n",
      " -------------------------\n",
      "In whispers soft as twilight's breath,  \n",
      "We dance upon the edge of death;  \n",
      "A fragile fleetness claims our days,  \n",
      "Like shadows in the sun's cruel rays.  \n",
      "\n",
      "The flower blooms, then bows to fate,  \n",
      "Once vibrant hues\n"
     ]
    }
   ],
   "source": [
    "print(response.choices[0].message.content)\n",
    "print(\" -------------------------\")\n",
    "print(response.choices[1].message.content)"
   ]
  }
 ],
 "metadata": {
  "colab": {
   "provenance": []
  },
  "kernelspec": {
   "display_name": ".venv",
   "language": "python",
   "name": "python3"
  },
  "language_info": {
   "codemirror_mode": {
    "name": "ipython",
    "version": 3
   },
   "file_extension": ".py",
   "mimetype": "text/x-python",
   "name": "python",
   "nbconvert_exporter": "python",
   "pygments_lexer": "ipython3",
   "version": "3.11.11"
  }
 },
 "nbformat": 4,
 "nbformat_minor": 5
}
