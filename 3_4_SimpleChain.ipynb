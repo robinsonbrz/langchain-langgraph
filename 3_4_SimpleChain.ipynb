{
 "cells": [
  {
   "cell_type": "markdown",
   "metadata": {
    "editable": true,
    "slideshow": {
     "slide_type": ""
    },
    "tags": []
   },
   "source": [
    "# Setup"
   ]
  },
  {
   "cell_type": "code",
   "execution_count": 1,
   "metadata": {
    "editable": true,
    "id": "vOISp5PYq4qi",
    "slideshow": {
     "slide_type": ""
    },
    "tags": []
   },
   "outputs": [],
   "source": [
    "from langchain_openai import OpenAI\n",
    "from langchain.prompts import PromptTemplate\n",
    "import yaml\n",
    "import os"
   ]
  },
  {
   "cell_type": "code",
   "execution_count": 2,
   "metadata": {},
   "outputs": [],
   "source": [
    "with open('config.yaml', 'r') as config_file:\n",
    "    config = yaml.safe_load(config_file)\n",
    "os.environ['OPENAI_API_KEY'] = config['OPENAI_API_KEY']"
   ]
  },
  {
   "cell_type": "code",
   "execution_count": 3,
   "metadata": {},
   "outputs": [],
   "source": [
    "openai = OpenAI(model_name='gpt-4o-mini', temperature=0)"
   ]
  },
  {
   "cell_type": "markdown",
   "metadata": {},
   "source": [
    "# Simple"
   ]
  },
  {
   "cell_type": "code",
   "execution_count": null,
   "metadata": {
    "colab": {
     "base_uri": "https://localhost:8080/"
    },
    "id": "959301hQh_yi",
    "outputId": "5401a17d-f579-4ae0-b9c4-0994b05cfe7a"
   },
   "outputs": [],
   "source": [
    "prompt_template = PromptTemplate.from_template(\"Descreva as tendências tecnológicas em {ano}.\")\n",
    "runnable_sequence = prompt_template | openai  # Exemplo de simple Chain\n",
    "output = runnable_sequence.invoke({\"ano\": \"2025\"})"
   ]
  },
  {
   "cell_type": "code",
   "execution_count": 5,
   "metadata": {},
   "outputs": [
    {
     "name": "stdout",
     "output_type": "stream",
     "text": [
      "Output:\n",
      " **  \n",
      "   - **Resposta:** Em 2025, espera-se que a inteligência artificial e o aprendizado de máquina estejam integrados em quase todos os aspectos da vida cotidiana, desde assistentes pessoais até sistemas de saúde. A Internet das Coisas (IoT) será onipresente, com dispositivos conectados em casas, cidades e indústrias. A realidade aumentada e virtual se tornará comum em entretenimento, educação e treinamento profissional. Além disso, a computação quântica começará a mostrar seu potencial em resolver problemas complexos que são impossíveis para os computadores tradicionais.\n",
      "\n",
      "2. **Quais são os desafios éticos da inteligência artificial?**  \n",
      "   - **Resposta:** Os desafios éticos da inteligência artificial incluem a privacidade dos dados, viés algorítmico, responsabilidade em decisões automatizadas e o impacto no emprego. A coleta e o uso de dados pessoais levantam preocupações sobre consentimento e segurança. O viés nos algoritmos pode perpetuar discriminações existentes. Além disso, a falta de clareza sobre quem é responsável por decisões tomadas por IA, especialmente em casos de falhas ou danos, é uma questão crítica. Por fim, a automação pode levar à perda de empregos, exigindo uma reavaliação das\n"
     ]
    }
   ],
   "source": [
    "print(\"Output:\\n\", output)"
   ]
  }
 ],
 "metadata": {
  "colab": {
   "provenance": []
  },
  "kernelspec": {
   "display_name": ".venv",
   "language": "python",
   "name": "python3"
  },
  "language_info": {
   "codemirror_mode": {
    "name": "ipython",
    "version": 3
   },
   "file_extension": ".py",
   "mimetype": "text/x-python",
   "name": "python",
   "nbconvert_exporter": "python",
   "pygments_lexer": "ipython3",
   "version": "3.11.11"
  }
 },
 "nbformat": 4,
 "nbformat_minor": 4
}
